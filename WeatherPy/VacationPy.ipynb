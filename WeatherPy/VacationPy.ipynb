{
 "cells": [
  {
   "cell_type": "code",
   "execution_count": 1,
   "metadata": {},
   "outputs": [],
   "source": [
    "# Dependencies and Setup\n",
    "import matplotlib.pyplot as plt\n",
    "import pandas as pd\n",
    "import numpy as np\n",
    "import requests\n",
    "import gmaps\n",
    "import os\n",
    "\n",
    "# Import API key\n",
    "from api_keys import g_key"
   ]
  },
  {
   "cell_type": "code",
   "execution_count": 3,
   "metadata": {},
   "outputs": [],
   "source": [
    "#Load CSV to DF\n",
    "weather_df = pd.read_csv('./cities.csv')"
   ]
  },
  {
   "cell_type": "code",
   "execution_count": 4,
   "metadata": {},
   "outputs": [
    {
     "data": {
      "application/vnd.jupyter.widget-view+json": {
       "model_id": "bb0167c6aeda4830bcf37a2d24121867",
       "version_major": 2,
       "version_minor": 0
      },
      "text/plain": [
       "Figure(layout=FigureLayout(height='500px', width='600x'))"
      ]
     },
     "metadata": {},
     "output_type": "display_data"
    }
   ],
   "source": [
    "#Humidity HM\n",
    "fig = gmaps.figure(layout={'width': '600x', 'height': '500px'})\n",
    "\n",
    "locations = weather_df[['Lat','Lng']]\n",
    "humidity = weather_df['Humidity']\n",
    "\n",
    "heat_layer = gmaps.heatmap_layer(locations, weights=humidity, dissipating=False, max_intensity=100, point_radius=3)\n",
    "\n",
    "fig.add_layer(heat_layer)\n",
    "fig"
   ]
  },
  {
   "cell_type": "code",
   "execution_count": 5,
   "metadata": {},
   "outputs": [
    {
     "name": "stdout",
     "output_type": "stream",
     "text": [
      "7\n"
     ]
    },
    {
     "data": {
      "text/html": [
       "<div>\n",
       "<style scoped>\n",
       "    .dataframe tbody tr th:only-of-type {\n",
       "        vertical-align: middle;\n",
       "    }\n",
       "\n",
       "    .dataframe tbody tr th {\n",
       "        vertical-align: top;\n",
       "    }\n",
       "\n",
       "    .dataframe thead th {\n",
       "        text-align: right;\n",
       "    }\n",
       "</style>\n",
       "<table border=\"1\" class=\"dataframe\">\n",
       "  <thead>\n",
       "    <tr style=\"text-align: right;\">\n",
       "      <th></th>\n",
       "      <th>City_ID</th>\n",
       "      <th>City</th>\n",
       "      <th>Cloudiness</th>\n",
       "      <th>Country</th>\n",
       "      <th>Date</th>\n",
       "      <th>Humidity</th>\n",
       "      <th>Lat</th>\n",
       "      <th>Lng</th>\n",
       "      <th>Max Temp</th>\n",
       "      <th>Wind Speed</th>\n",
       "    </tr>\n",
       "  </thead>\n",
       "  <tbody>\n",
       "    <tr>\n",
       "      <th>52</th>\n",
       "      <td>52</td>\n",
       "      <td>taybad</td>\n",
       "      <td>78</td>\n",
       "      <td>IR</td>\n",
       "      <td>1558378763</td>\n",
       "      <td>18</td>\n",
       "      <td>34.74</td>\n",
       "      <td>60.78</td>\n",
       "      <td>80.16</td>\n",
       "      <td>4.88</td>\n",
       "    </tr>\n",
       "    <tr>\n",
       "      <th>322</th>\n",
       "      <td>322</td>\n",
       "      <td>tshikapa</td>\n",
       "      <td>99</td>\n",
       "      <td>CD</td>\n",
       "      <td>1558378849</td>\n",
       "      <td>58</td>\n",
       "      <td>-6.42</td>\n",
       "      <td>20.79</td>\n",
       "      <td>79.62</td>\n",
       "      <td>2.15</td>\n",
       "    </tr>\n",
       "    <tr>\n",
       "      <th>443</th>\n",
       "      <td>443</td>\n",
       "      <td>lucapa</td>\n",
       "      <td>65</td>\n",
       "      <td>AO</td>\n",
       "      <td>1558378880</td>\n",
       "      <td>48</td>\n",
       "      <td>-8.42</td>\n",
       "      <td>20.74</td>\n",
       "      <td>78.36</td>\n",
       "      <td>2.73</td>\n",
       "    </tr>\n",
       "    <tr>\n",
       "      <th>468</th>\n",
       "      <td>468</td>\n",
       "      <td>san cristobal</td>\n",
       "      <td>75</td>\n",
       "      <td>EC</td>\n",
       "      <td>1558378885</td>\n",
       "      <td>37</td>\n",
       "      <td>-0.39</td>\n",
       "      <td>-78.55</td>\n",
       "      <td>71.60</td>\n",
       "      <td>4.70</td>\n",
       "    </tr>\n",
       "    <tr>\n",
       "      <th>469</th>\n",
       "      <td>469</td>\n",
       "      <td>san ramon</td>\n",
       "      <td>75</td>\n",
       "      <td>NI</td>\n",
       "      <td>1558378828</td>\n",
       "      <td>65</td>\n",
       "      <td>12.92</td>\n",
       "      <td>-85.84</td>\n",
       "      <td>77.00</td>\n",
       "      <td>5.55</td>\n",
       "    </tr>\n",
       "    <tr>\n",
       "      <th>491</th>\n",
       "      <td>491</td>\n",
       "      <td>bouca</td>\n",
       "      <td>68</td>\n",
       "      <td>CF</td>\n",
       "      <td>1558378889</td>\n",
       "      <td>51</td>\n",
       "      <td>6.51</td>\n",
       "      <td>18.28</td>\n",
       "      <td>83.94</td>\n",
       "      <td>4.12</td>\n",
       "    </tr>\n",
       "    <tr>\n",
       "      <th>492</th>\n",
       "      <td>492</td>\n",
       "      <td>bolobo</td>\n",
       "      <td>95</td>\n",
       "      <td>CD</td>\n",
       "      <td>1558378889</td>\n",
       "      <td>57</td>\n",
       "      <td>-2.17</td>\n",
       "      <td>16.23</td>\n",
       "      <td>83.94</td>\n",
       "      <td>2.33</td>\n",
       "    </tr>\n",
       "  </tbody>\n",
       "</table>\n",
       "</div>"
      ],
      "text/plain": [
       "     City_ID           City  Cloudiness Country        Date  Humidity    Lat  \\\n",
       "52        52         taybad          78      IR  1558378763        18  34.74   \n",
       "322      322       tshikapa          99      CD  1558378849        58  -6.42   \n",
       "443      443         lucapa          65      AO  1558378880        48  -8.42   \n",
       "468      468  san cristobal          75      EC  1558378885        37  -0.39   \n",
       "469      469      san ramon          75      NI  1558378828        65  12.92   \n",
       "491      491          bouca          68      CF  1558378889        51   6.51   \n",
       "492      492         bolobo          95      CD  1558378889        57  -2.17   \n",
       "\n",
       "       Lng  Max Temp  Wind Speed  \n",
       "52   60.78     80.16        4.88  \n",
       "322  20.79     79.62        2.15  \n",
       "443  20.74     78.36        2.73  \n",
       "468 -78.55     71.60        4.70  \n",
       "469 -85.84     77.00        5.55  \n",
       "491  18.28     83.94        4.12  \n",
       "492  16.23     83.94        2.33  "
      ]
     },
     "execution_count": 5,
     "metadata": {},
     "output_type": "execute_result"
    }
   ],
   "source": [
    "ideal_weather_df = weather_df.loc[\n",
    "    (weather_df['Max Temp']<=85) & \n",
    "    (weather_df['Max Temp']>=70) & \n",
    "    (weather_df['Wind Speed']<=6) & \n",
    "    (weather_df['Humidity']<=65) &\n",
    "    (weather_df['Cloudiness']>=25)\n",
    "]\n",
    "     \n",
    "print(len(ideal_weather_df))\n",
    "ideal_weather_df"
   ]
  },
  {
   "cell_type": "code",
   "execution_count": 8,
   "metadata": {},
   "outputs": [
    {
     "name": "stdout",
     "output_type": "stream",
     "text": [
      "No hotels listed within a 5000m radius of 52 60.78\n",
      "No hotels listed within a 5000m radius of 322 20.79\n",
      "No hotels listed within a 5000m radius of 443 20.74\n",
      "No hotels listed within a 5000m radius of 468 -78.55\n",
      "No hotels listed within a 5000m radius of 469 -85.84\n",
      "No hotels listed within a 5000m radius of 491 18.28\n",
      "No hotels listed within a 5000m radius of 492 16.23\n"
     ]
    },
    {
     "ename": "KeyError",
     "evalue": "\"None of [Index(['hotel_lat', 'hotel_lng'], dtype='object')] are in the [columns]\"",
     "output_type": "error",
     "traceback": [
      "\u001b[1;31m---------------------------------------------------------------------------\u001b[0m",
      "\u001b[1;31mKeyError\u001b[0m                                  Traceback (most recent call last)",
      "\u001b[1;32m<ipython-input-8-a28fd16fdf0f>\u001b[0m in \u001b[0;36m<module>\u001b[1;34m\u001b[0m\n\u001b[0;32m     19\u001b[0m \u001b[1;33m\u001b[0m\u001b[0m\n\u001b[0;32m     20\u001b[0m \u001b[0mhotels_df\u001b[0m \u001b[1;33m=\u001b[0m \u001b[0mpd\u001b[0m\u001b[1;33m.\u001b[0m\u001b[0mDataFrame\u001b[0m\u001b[1;33m(\u001b[0m\u001b[0mhotels\u001b[0m\u001b[1;33m)\u001b[0m\u001b[1;33m\u001b[0m\u001b[1;33m\u001b[0m\u001b[0m\n\u001b[1;32m---> 21\u001b[1;33m \u001b[0mcoords\u001b[0m \u001b[1;33m=\u001b[0m \u001b[0mhotels_df\u001b[0m\u001b[1;33m[\u001b[0m\u001b[1;33m[\u001b[0m\u001b[1;34m'hotel_lat'\u001b[0m\u001b[1;33m,\u001b[0m\u001b[1;34m'hotel_lng'\u001b[0m\u001b[1;33m]\u001b[0m\u001b[1;33m]\u001b[0m\u001b[1;33m\u001b[0m\u001b[1;33m\u001b[0m\u001b[0m\n\u001b[0m\u001b[0;32m     22\u001b[0m \u001b[0mnames\u001b[0m \u001b[1;33m=\u001b[0m \u001b[1;33m[\u001b[0m\u001b[1;33m]\u001b[0m\u001b[1;33m\u001b[0m\u001b[1;33m\u001b[0m\u001b[0m\n\u001b[0;32m     23\u001b[0m \u001b[1;32mfor\u001b[0m \u001b[0mea\u001b[0m \u001b[1;32min\u001b[0m \u001b[1;33m(\u001b[0m\u001b[0mnp\u001b[0m\u001b[1;33m.\u001b[0m\u001b[0marange\u001b[0m\u001b[1;33m(\u001b[0m\u001b[1;36m0\u001b[0m\u001b[1;33m,\u001b[0m\u001b[0mlen\u001b[0m\u001b[1;33m(\u001b[0m\u001b[0mhotels_df\u001b[0m\u001b[1;33m)\u001b[0m\u001b[1;33m)\u001b[0m\u001b[1;33m)\u001b[0m\u001b[1;33m:\u001b[0m\u001b[1;33m\u001b[0m\u001b[1;33m\u001b[0m\u001b[0m\n",
      "\u001b[1;32m~\\Anaconda\\lib\\site-packages\\pandas\\core\\frame.py\u001b[0m in \u001b[0;36m__getitem__\u001b[1;34m(self, key)\u001b[0m\n\u001b[0;32m   2804\u001b[0m             \u001b[1;32mif\u001b[0m \u001b[0mis_iterator\u001b[0m\u001b[1;33m(\u001b[0m\u001b[0mkey\u001b[0m\u001b[1;33m)\u001b[0m\u001b[1;33m:\u001b[0m\u001b[1;33m\u001b[0m\u001b[1;33m\u001b[0m\u001b[0m\n\u001b[0;32m   2805\u001b[0m                 \u001b[0mkey\u001b[0m \u001b[1;33m=\u001b[0m \u001b[0mlist\u001b[0m\u001b[1;33m(\u001b[0m\u001b[0mkey\u001b[0m\u001b[1;33m)\u001b[0m\u001b[1;33m\u001b[0m\u001b[1;33m\u001b[0m\u001b[0m\n\u001b[1;32m-> 2806\u001b[1;33m             \u001b[0mindexer\u001b[0m \u001b[1;33m=\u001b[0m \u001b[0mself\u001b[0m\u001b[1;33m.\u001b[0m\u001b[0mloc\u001b[0m\u001b[1;33m.\u001b[0m\u001b[0m_get_listlike_indexer\u001b[0m\u001b[1;33m(\u001b[0m\u001b[0mkey\u001b[0m\u001b[1;33m,\u001b[0m \u001b[0maxis\u001b[0m\u001b[1;33m=\u001b[0m\u001b[1;36m1\u001b[0m\u001b[1;33m,\u001b[0m \u001b[0mraise_missing\u001b[0m\u001b[1;33m=\u001b[0m\u001b[1;32mTrue\u001b[0m\u001b[1;33m)\u001b[0m\u001b[1;33m[\u001b[0m\u001b[1;36m1\u001b[0m\u001b[1;33m]\u001b[0m\u001b[1;33m\u001b[0m\u001b[1;33m\u001b[0m\u001b[0m\n\u001b[0m\u001b[0;32m   2807\u001b[0m \u001b[1;33m\u001b[0m\u001b[0m\n\u001b[0;32m   2808\u001b[0m         \u001b[1;31m# take() does not accept boolean indexers\u001b[0m\u001b[1;33m\u001b[0m\u001b[1;33m\u001b[0m\u001b[1;33m\u001b[0m\u001b[0m\n",
      "\u001b[1;32m~\\Anaconda\\lib\\site-packages\\pandas\\core\\indexing.py\u001b[0m in \u001b[0;36m_get_listlike_indexer\u001b[1;34m(self, key, axis, raise_missing)\u001b[0m\n\u001b[0;32m   1550\u001b[0m             \u001b[0mkeyarr\u001b[0m\u001b[1;33m,\u001b[0m \u001b[0mindexer\u001b[0m\u001b[1;33m,\u001b[0m \u001b[0mnew_indexer\u001b[0m \u001b[1;33m=\u001b[0m \u001b[0max\u001b[0m\u001b[1;33m.\u001b[0m\u001b[0m_reindex_non_unique\u001b[0m\u001b[1;33m(\u001b[0m\u001b[0mkeyarr\u001b[0m\u001b[1;33m)\u001b[0m\u001b[1;33m\u001b[0m\u001b[1;33m\u001b[0m\u001b[0m\n\u001b[0;32m   1551\u001b[0m \u001b[1;33m\u001b[0m\u001b[0m\n\u001b[1;32m-> 1552\u001b[1;33m         self._validate_read_indexer(\n\u001b[0m\u001b[0;32m   1553\u001b[0m             \u001b[0mkeyarr\u001b[0m\u001b[1;33m,\u001b[0m \u001b[0mindexer\u001b[0m\u001b[1;33m,\u001b[0m \u001b[0mo\u001b[0m\u001b[1;33m.\u001b[0m\u001b[0m_get_axis_number\u001b[0m\u001b[1;33m(\u001b[0m\u001b[0maxis\u001b[0m\u001b[1;33m)\u001b[0m\u001b[1;33m,\u001b[0m \u001b[0mraise_missing\u001b[0m\u001b[1;33m=\u001b[0m\u001b[0mraise_missing\u001b[0m\u001b[1;33m\u001b[0m\u001b[1;33m\u001b[0m\u001b[0m\n\u001b[0;32m   1554\u001b[0m         )\n",
      "\u001b[1;32m~\\Anaconda\\lib\\site-packages\\pandas\\core\\indexing.py\u001b[0m in \u001b[0;36m_validate_read_indexer\u001b[1;34m(self, key, indexer, axis, raise_missing)\u001b[0m\n\u001b[0;32m   1638\u001b[0m             \u001b[1;32mif\u001b[0m \u001b[0mmissing\u001b[0m \u001b[1;33m==\u001b[0m \u001b[0mlen\u001b[0m\u001b[1;33m(\u001b[0m\u001b[0mindexer\u001b[0m\u001b[1;33m)\u001b[0m\u001b[1;33m:\u001b[0m\u001b[1;33m\u001b[0m\u001b[1;33m\u001b[0m\u001b[0m\n\u001b[0;32m   1639\u001b[0m                 \u001b[0maxis_name\u001b[0m \u001b[1;33m=\u001b[0m \u001b[0mself\u001b[0m\u001b[1;33m.\u001b[0m\u001b[0mobj\u001b[0m\u001b[1;33m.\u001b[0m\u001b[0m_get_axis_name\u001b[0m\u001b[1;33m(\u001b[0m\u001b[0maxis\u001b[0m\u001b[1;33m)\u001b[0m\u001b[1;33m\u001b[0m\u001b[1;33m\u001b[0m\u001b[0m\n\u001b[1;32m-> 1640\u001b[1;33m                 \u001b[1;32mraise\u001b[0m \u001b[0mKeyError\u001b[0m\u001b[1;33m(\u001b[0m\u001b[1;34mf\"None of [{key}] are in the [{axis_name}]\"\u001b[0m\u001b[1;33m)\u001b[0m\u001b[1;33m\u001b[0m\u001b[1;33m\u001b[0m\u001b[0m\n\u001b[0m\u001b[0;32m   1641\u001b[0m \u001b[1;33m\u001b[0m\u001b[0m\n\u001b[0;32m   1642\u001b[0m             \u001b[1;31m# We (temporarily) allow for some missing keys with .loc, except in\u001b[0m\u001b[1;33m\u001b[0m\u001b[1;33m\u001b[0m\u001b[1;33m\u001b[0m\u001b[0m\n",
      "\u001b[1;31mKeyError\u001b[0m: \"None of [Index(['hotel_lat', 'hotel_lng'], dtype='object')] are in the [columns]\""
     ]
    }
   ],
   "source": [
    "hotels = []\n",
    "\n",
    "for ea in (np.arange(0,len(ideal_weather_df))):\n",
    "    city = ideal_weather_df.iloc[ea,0]\n",
    "    country = ideal_weather_df.iloc[ea,7]\n",
    "    location = f\"{ideal_weather_df.iloc[ea,1]}, {ideal_weather_df.iloc[ea,2]}\"\n",
    "    target_type = 'Hotel'\n",
    "    target_keyword = 'Hotel'\n",
    "    target_url = f\"https://maps.googleapis.com/maps/api/place/nearbysearch/json?location={location}&keyword={target_keyword}&type={target_type}&radius=5000&key={g_key}\"\n",
    "    try:\n",
    "        response = requests.get(target_url).json()\n",
    "        hotel_name = response['results'][0]['name']\n",
    "        lat = response['results'][0]['geometry']['location']['lat']\n",
    "        lng = response['results'][0]['geometry']['location']['lng']    \n",
    "        hotels.append({'city': city, 'country': country, 'hotel_name': hotel_name, 'hotel_lat': lat, 'hotel_lng': lng})\n",
    "        \n",
    "    except:\n",
    "        print(f\"No hotels listed within a 5000m radius of {city} {country}\")\n",
    "        \n",
    "hotels_df = pd.DataFrame(hotels)\n",
    "coords = hotels_df[['hotel_lat','hotel_lng']]\n",
    "names = []\n",
    "for ea in (np.arange(0,len(hotels_df))):\n",
    "    names.append(\"Hotel: \"+hotels_df.iloc[ea,2]+\", City: \" +hotels_df.iloc[ea,0]+\", Country: \"+hotels_df.iloc[ea,1])\n",
    "    \n",
    "markers = gmaps.marker_layer(coords,info_box_content=names, display_info_box=True)\n",
    "fig.add_layer(markers)\n",
    "\n",
    "fig"
   ]
  },
  {
   "cell_type": "code",
   "execution_count": null,
   "metadata": {},
   "outputs": [],
   "source": []
  }
 ],
 "metadata": {
  "kernelspec": {
   "display_name": "Python 3",
   "language": "python",
   "name": "python3"
  },
  "language_info": {
   "codemirror_mode": {
    "name": "ipython",
    "version": 3
   },
   "file_extension": ".py",
   "mimetype": "text/x-python",
   "name": "python",
   "nbconvert_exporter": "python",
   "pygments_lexer": "ipython3",
   "version": "3.8.3"
  }
 },
 "nbformat": 4,
 "nbformat_minor": 4
}
